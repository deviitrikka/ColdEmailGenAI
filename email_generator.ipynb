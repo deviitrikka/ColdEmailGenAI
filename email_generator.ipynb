{
 "cells": [
  {
   "cell_type": "code",
   "execution_count": 7,
   "id": "e2b549d9-24c4-4c00-ab9d-02e136293619",
   "metadata": {},
   "outputs": [],
   "source": [
    "from langchain_groq import ChatGroq\n",
    "\n",
    "llm = ChatGroq(\n",
    "    temperature = 0,\n",
    "    groq_api_key = 'gsk_##################################################',\n",
    "    model_name=\"llama-3.1-70b-versatile\"\n",
    ")\n",
    "\n",
    "# response = llm.invoke(\"who was the first person on earth\")\n",
    "# print(response.content)"
   ]
  },
  {
   "cell_type": "markdown",
   "id": "c8c037cd-f8ff-47e3-b7c5-72a9a4bd4f92",
   "metadata": {},
   "source": [
    "**webscraping job portal using web base loader**"
   ]
  },
  {
   "cell_type": "code",
   "execution_count": null,
   "id": "400a1a77-a292-4556-b88c-b1537b7aa50d",
   "metadata": {},
   "outputs": [],
   "source": [
    "#!pip install langchain_community"
   ]
  },
  {
   "cell_type": "code",
   "execution_count": 8,
   "id": "2d4a3f83-a4fd-49ef-b494-a94c4629cbb8",
   "metadata": {},
   "outputs": [
    {
     "name": "stdout",
     "output_type": "stream",
     "text": [
      "Apply for Software Engineer II- Frontend Developer, ITC\n",
      "\n",
      "Search JobsSkip navigationSearch JobsNIKE, INC. JOBSContract JobsJoin The Talent CommunityLife @ NikeOverviewBenefitsBrandsOverviewJordanConverseTeamsOverviewAdministrative SupportAdvanced InnovationAir Manufacturing InnovationAviationCommunicationsCustomer ServiceDesignDigitalFacilitiesFinance & AccountingGovernment & Public AffairsHuman ResourcesInsights & AnalyticsLegalManufacturing & EngineeringMarketingMerchandisingPlanningPrivacyProcurementProduct Creation, Development & ManagementRetail CorporateRetail StoresSalesSocial & Community ImpactSports MarketingStrategic PlanningSupply Chain, Distribution & LogisticsSustainabilityTechnologyLocationsOverviewNike WHQNike New York HQEHQ: Hilversum, The NetherlandsELC: Laakdal, BelgiumGreater China HQDiversity, Equity & InclusionOverviewMilitary InclusionDisability InclusionIndigenous InclusionInternshipsTechnologySoftware Engineer II- Frontend Developer, ITCKarnataka, IndiaBecome a Part of the NIKE, Inc. TeamNIKE, Inc. does more than outfit the world’s best athletes. It is a place to explore potential, obliterate boundaries and push out the edges of what can be. The company looks for people who can grow, think, dream and create. Its culture thrives by embracing diversity and rewarding imagination. The brand seeks achievers, leaders and visionaries. At NIKE, Inc. it’s about each person bringing skills and passion to a challenging and constantly evolving game.NIKE is a technology company. From our flagship website and five-star mobile apps to developing products, managing big data and providing leading edge engineering and systems support, our teams at NIKE Global Technology exist to revolutionize the future at the confluence of tech and sport. We invest and develop advances in technology and employ the most creative people in the world, and then give them the support to constantly innovate, iterate and serve consumers more directly and personally.  Our teams are innovative, diverse, multidisciplinary and collaborative, taking technology into the future and bringing the world with it.WHO YOU’LL WORK WITHYou will be reporting to the Engineering Manager at Supply Chain and Planning Tech - India Capability Center, who will guide you to grow and build your career path. You will be directly working within a team of dedicated engineers that work on the same solutions. You share your experience and technical expertise such that we improve on the longer-term technical strategic direction.WHO WE ARE LOOKING FORAs a Software Engineer for the Supply Chain and Planning Technology team, you will be part of a mission critical team focused on building a high-throughput, low-latency, fault-tolerant supply chain platform that drive Nike’s Digital transformation and growth strategies.A minimum of 3-5 years software development experienceExperience working in a highly collaborative, multi-discipline development team environmentExperience working in a distributed/cloud-based environment (e.g. AWS Services, GCE, Rackspace, Azure etc.)Experience in micro service architecture, domain driven design, and RESTful Services using languages such as Java, Node, Scala etc.Experience working with Java and Spring Boot frameworkExperience working in ReactJS mandatorily with proficiency in HTML5, CSS3, JavaScript, Typescript for at least 3 yearsExperience in Test Driven development - writing clean unobtrusive JavaScript with testsProficient in UI/UX principlesExperience with continuous integration, unit testing, static analysis, and automated integration tests. Continuous delivery experience preferredWorking knowledge of Scrum and agile principlesComfortable working in a fast-paced, results-oriented environmentComfortable working with globally distributed and diverse teamsExcellent verbal and written communication and collaboration skills to effectively communicate with both business and technical teamsBachelor’s degree in computer science, Information Systems, or other relevant subject area, or equivalent experience.The following would be nice-to-have:Experience in designing and implementing highly scalable web applicationsExperience with monitoring and tracing tools like Splunk, SignalFx, New Relic etc.Exposure to Supply Chain domain areas like inventory management, order management, logistics management, warehouse managementExperience working with NoSQL data stores like Cassandra, DynamoDB, MongoDB etc.Experience working with relational data stores like MySQL, Oracle etc.WHAT YOU’LL WORK ONAs a Software Engineer II in SCPT organization, you will be part of designing and delivering solutions for both digital and in-store platforms to bring best in class consumer experiences to our consumer worldwide. We invest and develop advances in technology and employ the most creative people in the world, and then give them the support to constantly innovate, iterate and serve consumers more directly and personally.In this role,You will be part of a mission critical team focused on building a high-throughput, low-latency, fault-tolerant supply chain platform that drive Nike’s Digital transformation.You will be contributing ideas for new features and identifying technical areas for improvement proactively collaborating with product team members at Nike to design, develop, and deploy a highly scalable digital asset management system and services.You will use your in-depth experience in software development to write clean, tested, and well-documented code, as well as perform peer code review process and mentor other engineers on the team.You will remain current with industry trends and participate in development of key innovation features.You will help the team with continuous improvement in performance, scalability, extensibility, reliability, and usability of features by leverage agile methodology concepts for quality, delivery and continuous improvement.NIKE, Inc. is a growth company that looks for team members to grow with it. Nike offers a generous total rewards package, casual work environment, a diverse and inclusive culture, and an electric atmosphere for professional development. No matter the location, or the role, every Nike employee shares one galvanizing mission: To bring inspiration and innovation to every athlete* in the world.NIKE, Inc. is committed to employing a diverse workforce. Qualified applicants will receive consideration without regard to race, color, religion, sex, national origin, age, sexual orientation, gender identity, gender expression, veteran status, or disability.How We HireAt NIKE, Inc. we promise to provide a premium, inclusive, compelling and authentic candidate experience. Delivering on this promise means we allow you to be at your best — and to do that, you need to understand how the hiring process works. Transparency is key.\n",
      "\n",
      "* This overview explains our hiring process for corporate roles. Note there may be different hiring steps involved for non-corporate roles.Start nowBenefitsWhether it’s transportation or financial health, we continually invest in our employees to help them achieve greatness — inside and outside of work. All who work here should be able to realize their full potential.Employee Assistance ProgramHolidaysMedical PlanPaid Time Off (PTO)Product DiscountsLearn moreFIND A STOREBECOME A MEMBERSIGN UP FOR EMAILSEND US FEEDBACKSTUDENT DISCOUNTSGET HELPGET HELPOrder StatusDeliveryReturnsPayment OptionsContact Us On Nike.com InquiriesContact Us On All Other InquiriesABOUT NIKEABOUT NIKENewsCareersInvestorsSustainabilityIndia© 2024 Nike, Inc. All Rights ReservedGuidesNike AdaptNike Air MaxNike FlyleatherNike PegasusNike Zoom FlyNike AirNike FlyEaseNike FreeNike ReactNike ZoomXNike Air Force 1Nike FlyknitNike JoyrideNike VaporflyTerms of SaleTerms of UseNike Privacy Policy\n"
     ]
    }
   ],
   "source": [
    "from langchain_community.document_loaders import WebBaseLoader\n",
    "\n",
    "loader = WebBaseLoader(\"https://jobs.nike.com/job/R-41553?from=job%20search%20funnel\")\n",
    "page_data = loader.load().pop().page_content\n",
    "print(page_data)"
   ]
  },
  {
   "cell_type": "code",
   "execution_count": null,
   "id": "b0ffefa9-efa8-4364-9e59-e0d0f7fa2de2",
   "metadata": {},
   "outputs": [],
   "source": []
  },
  {
   "cell_type": "code",
   "execution_count": 9,
   "id": "2e2ccdb8-9992-4536-bf47-665edb44f469",
   "metadata": {
    "scrolled": true
   },
   "outputs": [
    {
     "name": "stdout",
     "output_type": "stream",
     "text": [
      "```json\n",
      "{\n",
      "  \"role\": \"Software Engineer II- Frontend Developer, ITC\",\n",
      "  \"skills\": [\n",
      "    \"Java\",\n",
      "    \"Spring Boot\",\n",
      "    \"ReactJS\",\n",
      "    \"HTML5\",\n",
      "    \"CSS3\",\n",
      "    \"JavaScript\",\n",
      "    \"Typescript\",\n",
      "    \"Scrum\",\n",
      "    \"Agile\",\n",
      "    \"UI/UX principles\",\n",
      "    \"Continuous integration\",\n",
      "    \"Unit testing\",\n",
      "    \"Static analysis\",\n",
      "    \"Automated integration tests\",\n",
      "    \"Continuous delivery\",\n",
      "    \"AWS Services\",\n",
      "    \"GCE\",\n",
      "    \"Rackspace\",\n",
      "    \"Azure\",\n",
      "    \"Micro service architecture\",\n",
      "    \"Domain driven design\",\n",
      "    \"RESTful Services\",\n",
      "    \"Splunk\",\n",
      "    \"SignalFx\",\n",
      "    \"New Relic\",\n",
      "    \"NoSQL data stores\",\n",
      "    \"Cassandra\",\n",
      "    \"DynamoDB\",\n",
      "    \"MongoDB\",\n",
      "    \"Relational data stores\",\n",
      "    \"MySQL\",\n",
      "    \"Oracle\"\n",
      "  ],\n",
      "  \"experience\": [\n",
      "    \"Minimum 3-5 years software development experience\",\n",
      "    \"Experience working in a highly collaborative, multi-discipline development team environment\",\n",
      "    \"Experience working in a distributed/cloud-based environment\",\n",
      "    \"Experience in designing and implementing highly scalable web applications\",\n",
      "    \"Experience with monitoring and tracing tools\",\n",
      "    \"Exposure to Supply Chain domain areas\",\n",
      "    \"Experience working with NoSQL data stores\",\n",
      "    \"Experience working with relational data stores\"\n",
      "  ],\n",
      "  \"job_details\": {\n",
      "    \"job_type\": \"Full-time\",\n",
      "    \"location\": \"Karnataka, India\",\n",
      "    \"job_description\": \"As a Software Engineer for the Supply Chain and Planning Technology team, you will be part of a mission critical team focused on building a high-throughput, low-latency, fault-tolerant supply chain platform that drive Nike’s Digital transformation and growth strategies.\",\n",
      "    \"responsibilities\": [\n",
      "      \"Designing and delivering solutions for both digital and in-store platforms\",\n",
      "      \"Contributing ideas for new features and identifying technical areas for improvement\",\n",
      "      \"Collaborating with product team members to design, develop, and deploy a highly scalable digital asset management system and services\",\n",
      "      \"Writing clean, tested, and well-documented code\",\n",
      "      \"Performing peer code review process and mentoring other engineers on the team\",\n",
      "      \"Remaining current with industry trends and participating in development of key innovation features\",\n",
      "      \"Helping the team with continuous improvement in performance, scalability, extensibility, reliability, and usability of features\"\n",
      "    ]\n",
      "  }\n",
      "}\n",
      "```\n"
     ]
    }
   ],
   "source": [
    "from langchain_core.prompts import PromptTemplate \n",
    "\n",
    "prompt_extract = PromptTemplate.from_template(\n",
    "    \"\"\"\n",
    "    ### SCRAPED TEXT FROM WEBSITE\n",
    "    {page_data}\n",
    "    ### INSTRUCTION:\n",
    "    The scraped text is from the career's page of a website.\n",
    "    Your job is to extract the job postings and return them in JSON format containing the following keys: `role`,`skills`,`experience`,`job_details`\n",
    "    Only return the valid json.\n",
    "    ### VALID JSON (NO PREAMBLE) :\n",
    "    \"\"\"\n",
    ")\n",
    "chain = prompt_extract | llm #chain in langchain\n",
    "response = chain.invoke(input={'page_data':page_data})\n",
    "print(response.content)"
   ]
  },
  {
   "cell_type": "code",
   "execution_count": null,
   "id": "fd779f76-d631-4587-8af2-051b5240d126",
   "metadata": {},
   "outputs": [],
   "source": [
    "type(response.content)"
   ]
  },
  {
   "cell_type": "markdown",
   "id": "eca250fd-3e4e-4475-846e-7c7da1d0e866",
   "metadata": {},
   "source": [
    "converting this str to an actual json object (dictionary)"
   ]
  },
  {
   "cell_type": "code",
   "execution_count": 10,
   "id": "9d8e0ced-9bd0-474c-a6d7-9148e5ab2ee9",
   "metadata": {},
   "outputs": [
    {
     "name": "stdout",
     "output_type": "stream",
     "text": [
      "{'role': 'Software Engineer II- Frontend Developer, ITC', 'skills': ['Java', 'Spring Boot', 'ReactJS', 'HTML5', 'CSS3', 'JavaScript', 'Typescript', 'Scrum', 'Agile', 'UI/UX principles', 'Continuous integration', 'Unit testing', 'Static analysis', 'Automated integration tests', 'Continuous delivery', 'AWS Services', 'GCE', 'Rackspace', 'Azure', 'Micro service architecture', 'Domain driven design', 'RESTful Services', 'Splunk', 'SignalFx', 'New Relic', 'NoSQL data stores', 'Cassandra', 'DynamoDB', 'MongoDB', 'Relational data stores', 'MySQL', 'Oracle'], 'experience': ['Minimum 3-5 years software development experience', 'Experience working in a highly collaborative, multi-discipline development team environment', 'Experience working in a distributed/cloud-based environment', 'Experience in designing and implementing highly scalable web applications', 'Experience with monitoring and tracing tools', 'Exposure to Supply Chain domain areas', 'Experience working with NoSQL data stores', 'Experience working with relational data stores'], 'job_details': {'job_type': 'Full-time', 'location': 'Karnataka, India', 'job_description': 'As a Software Engineer for the Supply Chain and Planning Technology team, you will be part of a mission critical team focused on building a high-throughput, low-latency, fault-tolerant supply chain platform that drive Nike’s Digital transformation and growth strategies.', 'responsibilities': ['Designing and delivering solutions for both digital and in-store platforms', 'Contributing ideas for new features and identifying technical areas for improvement', 'Collaborating with product team members to design, develop, and deploy a highly scalable digital asset management system and services', 'Writing clean, tested, and well-documented code', 'Performing peer code review process and mentoring other engineers on the team', 'Remaining current with industry trends and participating in development of key innovation features', 'Helping the team with continuous improvement in performance, scalability, extensibility, reliability, and usability of features']}}\n"
     ]
    }
   ],
   "source": [
    "from langchain_core.output_parsers import JsonOutputParser\n",
    "\n",
    "json_res = JsonOutputParser().parse(response.content)\n",
    "print(json_res)"
   ]
  },
  {
   "cell_type": "code",
   "execution_count": null,
   "id": "12fda398-ee22-4a97-a6db-161436b22fd8",
   "metadata": {},
   "outputs": [],
   "source": [
    "type(json_res)"
   ]
  },
  {
   "cell_type": "code",
   "execution_count": 11,
   "id": "77db3fbe-a168-4984-8dcf-b5a5b5629013",
   "metadata": {},
   "outputs": [
    {
     "data": {
      "text/html": [
       "<div>\n",
       "<style scoped>\n",
       "    .dataframe tbody tr th:only-of-type {\n",
       "        vertical-align: middle;\n",
       "    }\n",
       "\n",
       "    .dataframe tbody tr th {\n",
       "        vertical-align: top;\n",
       "    }\n",
       "\n",
       "    .dataframe thead th {\n",
       "        text-align: right;\n",
       "    }\n",
       "</style>\n",
       "<table border=\"1\" class=\"dataframe\">\n",
       "  <thead>\n",
       "    <tr style=\"text-align: right;\">\n",
       "      <th></th>\n",
       "      <th>Techstack</th>\n",
       "      <th>Links</th>\n",
       "    </tr>\n",
       "  </thead>\n",
       "  <tbody>\n",
       "    <tr>\n",
       "      <th>0</th>\n",
       "      <td>React, Node.js, MongoDB</td>\n",
       "      <td>https://example.com/react-portfolio</td>\n",
       "    </tr>\n",
       "    <tr>\n",
       "      <th>1</th>\n",
       "      <td>Angular,.NET, SQL Server</td>\n",
       "      <td>https://example.com/angular-portfolio</td>\n",
       "    </tr>\n",
       "    <tr>\n",
       "      <th>2</th>\n",
       "      <td>Vue.js, Ruby on Rails, PostgreSQL</td>\n",
       "      <td>https://example.com/vue-portfolio</td>\n",
       "    </tr>\n",
       "    <tr>\n",
       "      <th>3</th>\n",
       "      <td>Python, Django, MySQL</td>\n",
       "      <td>https://example.com/python-portfolio</td>\n",
       "    </tr>\n",
       "    <tr>\n",
       "      <th>4</th>\n",
       "      <td>Java, Spring Boot, Oracle</td>\n",
       "      <td>https://example.com/java-portfolio</td>\n",
       "    </tr>\n",
       "    <tr>\n",
       "      <th>5</th>\n",
       "      <td>Flutter, Firebase, GraphQL</td>\n",
       "      <td>https://example.com/flutter-portfolio</td>\n",
       "    </tr>\n",
       "    <tr>\n",
       "      <th>6</th>\n",
       "      <td>WordPress, PHP, MySQL</td>\n",
       "      <td>https://example.com/wordpress-portfolio</td>\n",
       "    </tr>\n",
       "    <tr>\n",
       "      <th>7</th>\n",
       "      <td>Magento, PHP, MySQL</td>\n",
       "      <td>https://example.com/magento-portfolio</td>\n",
       "    </tr>\n",
       "    <tr>\n",
       "      <th>8</th>\n",
       "      <td>React Native, Node.js, MongoDB</td>\n",
       "      <td>https://example.com/react-native-portfolio</td>\n",
       "    </tr>\n",
       "    <tr>\n",
       "      <th>9</th>\n",
       "      <td>iOS, Swift, Core Data</td>\n",
       "      <td>https://example.com/ios-portfolio</td>\n",
       "    </tr>\n",
       "    <tr>\n",
       "      <th>10</th>\n",
       "      <td>Android, Java, Room Persistence</td>\n",
       "      <td>https://example.com/android-portfolio</td>\n",
       "    </tr>\n",
       "    <tr>\n",
       "      <th>11</th>\n",
       "      <td>Kotlin, Android, Firebase</td>\n",
       "      <td>https://example.com/kotlin-android-portfolio</td>\n",
       "    </tr>\n",
       "    <tr>\n",
       "      <th>12</th>\n",
       "      <td>Android TV, Kotlin, Android NDK</td>\n",
       "      <td>https://example.com/android-tv-portfolio</td>\n",
       "    </tr>\n",
       "    <tr>\n",
       "      <th>13</th>\n",
       "      <td>iOS, Swift, ARKit</td>\n",
       "      <td>https://example.com/ios-ar-portfolio</td>\n",
       "    </tr>\n",
       "    <tr>\n",
       "      <th>14</th>\n",
       "      <td>Cross-platform, Xamarin, Azure</td>\n",
       "      <td>https://example.com/xamarin-portfolio</td>\n",
       "    </tr>\n",
       "    <tr>\n",
       "      <th>15</th>\n",
       "      <td>Backend, Kotlin, Spring Boot</td>\n",
       "      <td>https://example.com/kotlin-backend-portfolio</td>\n",
       "    </tr>\n",
       "    <tr>\n",
       "      <th>16</th>\n",
       "      <td>Frontend, TypeScript, Angular</td>\n",
       "      <td>https://example.com/typescript-frontend-portfolio</td>\n",
       "    </tr>\n",
       "    <tr>\n",
       "      <th>17</th>\n",
       "      <td>Full-stack, JavaScript, Express.js</td>\n",
       "      <td>https://example.com/full-stack-js-portfolio</td>\n",
       "    </tr>\n",
       "    <tr>\n",
       "      <th>18</th>\n",
       "      <td>Machine Learning, Python, TensorFlow</td>\n",
       "      <td>https://example.com/ml-python-portfolio</td>\n",
       "    </tr>\n",
       "    <tr>\n",
       "      <th>19</th>\n",
       "      <td>DevOps, Jenkins, Docker</td>\n",
       "      <td>https://example.com/devops-portfolio</td>\n",
       "    </tr>\n",
       "  </tbody>\n",
       "</table>\n",
       "</div>"
      ],
      "text/plain": [
       "                               Techstack  \\\n",
       "0                React, Node.js, MongoDB   \n",
       "1               Angular,.NET, SQL Server   \n",
       "2      Vue.js, Ruby on Rails, PostgreSQL   \n",
       "3                  Python, Django, MySQL   \n",
       "4              Java, Spring Boot, Oracle   \n",
       "5             Flutter, Firebase, GraphQL   \n",
       "6                  WordPress, PHP, MySQL   \n",
       "7                    Magento, PHP, MySQL   \n",
       "8         React Native, Node.js, MongoDB   \n",
       "9                  iOS, Swift, Core Data   \n",
       "10       Android, Java, Room Persistence   \n",
       "11             Kotlin, Android, Firebase   \n",
       "12       Android TV, Kotlin, Android NDK   \n",
       "13                     iOS, Swift, ARKit   \n",
       "14        Cross-platform, Xamarin, Azure   \n",
       "15          Backend, Kotlin, Spring Boot   \n",
       "16         Frontend, TypeScript, Angular   \n",
       "17    Full-stack, JavaScript, Express.js   \n",
       "18  Machine Learning, Python, TensorFlow   \n",
       "19               DevOps, Jenkins, Docker   \n",
       "\n",
       "                                                Links  \n",
       "0                 https://example.com/react-portfolio  \n",
       "1               https://example.com/angular-portfolio  \n",
       "2                   https://example.com/vue-portfolio  \n",
       "3                https://example.com/python-portfolio  \n",
       "4                  https://example.com/java-portfolio  \n",
       "5               https://example.com/flutter-portfolio  \n",
       "6             https://example.com/wordpress-portfolio  \n",
       "7               https://example.com/magento-portfolio  \n",
       "8          https://example.com/react-native-portfolio  \n",
       "9                   https://example.com/ios-portfolio  \n",
       "10              https://example.com/android-portfolio  \n",
       "11       https://example.com/kotlin-android-portfolio  \n",
       "12           https://example.com/android-tv-portfolio  \n",
       "13               https://example.com/ios-ar-portfolio  \n",
       "14              https://example.com/xamarin-portfolio  \n",
       "15       https://example.com/kotlin-backend-portfolio  \n",
       "16  https://example.com/typescript-frontend-portfolio  \n",
       "17        https://example.com/full-stack-js-portfolio  \n",
       "18            https://example.com/ml-python-portfolio  \n",
       "19               https://example.com/devops-portfolio  "
      ]
     },
     "execution_count": 11,
     "metadata": {},
     "output_type": "execute_result"
    }
   ],
   "source": [
    "import pandas as pd\n",
    "\n",
    "df = pd.read_csv(\"my_portfolio.csv\")\n",
    "df"
   ]
  },
  {
   "cell_type": "markdown",
   "id": "d42d773b-e3db-46cd-a450-19f087a4467e",
   "metadata": {},
   "source": [
    "**now we have to put in chromadb**"
   ]
  },
  {
   "cell_type": "code",
   "execution_count": 12,
   "id": "8a800cf6-48fe-4eb0-8b7e-0c10ff83dc03",
   "metadata": {},
   "outputs": [],
   "source": [
    "import chromadb\n",
    "import uuid\n",
    "client = chromadb.PersistentClient('vectorstore')\n",
    "collection = client.get_or_create_collection(name=\"portfolio\")\n",
    "\n",
    "if not collection.count():\n",
    "    for _, row in df.iterrows():\n",
    "        collection.add(documents = row[\"Techstack\"],\n",
    "                       metadatas={\"links\": row[\"Links\"]},\n",
    "                       ids=[str(uuid.uuid4())])"
   ]
  },
  {
   "cell_type": "code",
   "execution_count": 12,
   "id": "bd18259b-c8e2-487d-b083-351c3c4428d6",
   "metadata": {},
   "outputs": [
    {
     "data": {
      "text/plain": [
       "[[{'links': 'https://example.com/ml-python-portfolio'},\n",
       "  {'links': 'https://example.com/python-portfolio'}],\n",
       " [{'links': 'https://example.com/react-portfolio'},\n",
       "  {'links': 'https://example.com/react-native-portfolio'}]]"
      ]
     },
     "execution_count": 12,
     "metadata": {},
     "output_type": "execute_result"
    }
   ],
   "source": [
    "links = collection.query(query_texts=[\"Experience in Python\",\"Experience in React\"], n_results=2).get(\"metadatas\")\n",
    "links"
   ]
  },
  {
   "cell_type": "code",
   "execution_count": 13,
   "id": "975984b3-f946-4c92-ace2-6f111bc8bcd6",
   "metadata": {},
   "outputs": [
    {
     "data": {
      "text/plain": [
       "['Java',\n",
       " 'Spring Boot',\n",
       " 'ReactJS',\n",
       " 'HTML5',\n",
       " 'CSS3',\n",
       " 'JavaScript',\n",
       " 'Typescript',\n",
       " 'Scrum',\n",
       " 'Agile',\n",
       " 'UI/UX principles',\n",
       " 'Continuous integration',\n",
       " 'Unit testing',\n",
       " 'Static analysis',\n",
       " 'Automated integration tests',\n",
       " 'Continuous delivery',\n",
       " 'AWS Services',\n",
       " 'GCE',\n",
       " 'Rackspace',\n",
       " 'Azure',\n",
       " 'Micro service architecture',\n",
       " 'Domain driven design',\n",
       " 'RESTful Services',\n",
       " 'Splunk',\n",
       " 'SignalFx',\n",
       " 'New Relic',\n",
       " 'NoSQL data stores',\n",
       " 'Cassandra',\n",
       " 'DynamoDB',\n",
       " 'MongoDB',\n",
       " 'Relational data stores',\n",
       " 'MySQL',\n",
       " 'Oracle']"
      ]
     },
     "execution_count": 13,
     "metadata": {},
     "output_type": "execute_result"
    }
   ],
   "source": [
    "job = json_res['skills']\n",
    "job"
   ]
  },
  {
   "cell_type": "code",
   "execution_count": 14,
   "id": "56c1f716-0076-4bec-aa2a-21e2c038c3ee",
   "metadata": {},
   "outputs": [
    {
     "data": {
      "text/plain": [
       "[[{'links': 'https://example.com/java-portfolio'},\n",
       "  {'links': 'https://example.com/android-portfolio'}],\n",
       " [{'links': 'https://example.com/java-portfolio'},\n",
       "  {'links': 'https://example.com/kotlin-backend-portfolio'}],\n",
       " [{'links': 'https://example.com/react-portfolio'},\n",
       "  {'links': 'https://example.com/react-native-portfolio'}],\n",
       " [{'links': 'https://example.com/full-stack-js-portfolio'},\n",
       "  {'links': 'https://example.com/wordpress-portfolio'}],\n",
       " [{'links': 'https://example.com/magento-portfolio'},\n",
       "  {'links': 'https://example.com/wordpress-portfolio'}],\n",
       " [{'links': 'https://example.com/full-stack-js-portfolio'},\n",
       "  {'links': 'https://example.com/typescript-frontend-portfolio'}],\n",
       " [{'links': 'https://example.com/typescript-frontend-portfolio'},\n",
       "  {'links': 'https://example.com/full-stack-js-portfolio'}],\n",
       " [{'links': 'https://example.com/devops-portfolio'},\n",
       "  {'links': 'https://example.com/java-portfolio'}],\n",
       " [{'links': 'https://example.com/ios-ar-portfolio'},\n",
       "  {'links': 'https://example.com/devops-portfolio'}],\n",
       " [{'links': 'https://example.com/ios-ar-portfolio'},\n",
       "  {'links': 'https://example.com/android-portfolio'}],\n",
       " [{'links': 'https://example.com/wordpress-portfolio'},\n",
       "  {'links': 'https://example.com/magento-portfolio'}],\n",
       " [{'links': 'https://example.com/ios-portfolio'},\n",
       "  {'links': 'https://example.com/android-portfolio'}],\n",
       " [{'links': 'https://example.com/ml-python-portfolio'},\n",
       "  {'links': 'https://example.com/android-portfolio'}],\n",
       " [{'links': 'https://example.com/devops-portfolio'},\n",
       "  {'links': 'https://example.com/ml-python-portfolio'}],\n",
       " [{'links': 'https://example.com/devops-portfolio'},\n",
       "  {'links': 'https://example.com/full-stack-js-portfolio'}],\n",
       " [{'links': 'https://example.com/wordpress-portfolio'},\n",
       "  {'links': 'https://example.com/devops-portfolio'}],\n",
       " [{'links': 'https://example.com/ios-ar-portfolio'},\n",
       "  {'links': 'https://example.com/java-portfolio'}],\n",
       " [{'links': 'https://example.com/vue-portfolio'},\n",
       "  {'links': 'https://example.com/android-portfolio'}],\n",
       " [{'links': 'https://example.com/xamarin-portfolio'},\n",
       "  {'links': 'https://example.com/angular-portfolio'}],\n",
       " [{'links': 'https://example.com/android-portfolio'},\n",
       "  {'links': 'https://example.com/xamarin-portfolio'}],\n",
       " [{'links': 'https://example.com/kotlin-backend-portfolio'},\n",
       "  {'links': 'https://example.com/android-portfolio'}],\n",
       " [{'links': 'https://example.com/wordpress-portfolio'},\n",
       "  {'links': 'https://example.com/kotlin-backend-portfolio'}],\n",
       " [{'links': 'https://example.com/flutter-portfolio'},\n",
       "  {'links': 'https://example.com/ml-python-portfolio'}],\n",
       " [{'links': 'https://example.com/android-tv-portfolio'},\n",
       "  {'links': 'https://example.com/ml-python-portfolio'}],\n",
       " [{'links': 'https://example.com/devops-portfolio'},\n",
       "  {'links': 'https://example.com/kotlin-backend-portfolio'}],\n",
       " [{'links': 'https://example.com/react-portfolio'},\n",
       "  {'links': 'https://example.com/flutter-portfolio'}],\n",
       " [{'links': 'https://example.com/flutter-portfolio'},\n",
       "  {'links': 'https://example.com/kotlin-android-portfolio'}],\n",
       " [{'links': 'https://example.com/flutter-portfolio'},\n",
       "  {'links': 'https://example.com/kotlin-android-portfolio'}],\n",
       " [{'links': 'https://example.com/react-portfolio'},\n",
       "  {'links': 'https://example.com/react-native-portfolio'}],\n",
       " [{'links': 'https://example.com/magento-portfolio'},\n",
       "  {'links': 'https://example.com/flutter-portfolio'}],\n",
       " [{'links': 'https://example.com/magento-portfolio'},\n",
       "  {'links': 'https://example.com/wordpress-portfolio'}],\n",
       " [{'links': 'https://example.com/java-portfolio'},\n",
       "  {'links': 'https://example.com/magento-portfolio'}]]"
      ]
     },
     "execution_count": 14,
     "metadata": {},
     "output_type": "execute_result"
    }
   ],
   "source": [
    "links = collection.query(query_texts=job, n_results=2).get(\"metadatas\")\n",
    "links"
   ]
  },
  {
   "cell_type": "markdown",
   "id": "4aebc5bb-983d-4f54-b8cd-3604ddaa05e3",
   "metadata": {},
   "source": [
    "**next we generate a prompt for generating a cold email**"
   ]
  },
  {
   "cell_type": "code",
   "execution_count": 15,
   "id": "9f1fc7d1-564f-4df4-af7d-e48082df258d",
   "metadata": {},
   "outputs": [
    {
     "name": "stdout",
     "output_type": "stream",
     "text": [
      "Subject: Unlock Efficient Business Processes with Tinfosys's Expertise\n",
      "\n",
      "Dear [Client's Name],\n",
      "\n",
      "I came across your job description and was impressed by the cutting-edge technologies you're looking to implement. As a Business Development Executive at Tinfosys, I'd like to introduce you to our AI & Software Company that specializes in seamless integration of business processes through automated tools.\n",
      "\n",
      "Our team of experts has extensive experience in designing and developing scalable solutions using Java, Spring Boot, ReactJS, and other technologies mentioned in your job description. We've successfully empowered numerous enterprises with tailored solutions, process optimization, cost reduction, and heightened overall efficiency.\n",
      "\n",
      "Our expertise in Microservice Architecture, Domain-Driven Design, and RESTful Services can help you achieve a robust and efficient system. We're also well-versed in both NoSQL data stores (Cassandra, DynamoDB, MongoDB) and Relational data stores (MySQL, Oracle), ensuring that your data management needs are met.\n",
      "\n",
      "To give you a glimpse of our capabilities, I'd like to highlight a few of our notable projects:\n",
      "\n",
      "* Developed a real-time analytics platform using Splunk, SignalFx, and New Relic for a leading e-commerce company, resulting in a 30% reduction in operational costs.\n",
      "* Designed and implemented a cloud-based microservices architecture for a fintech company using AWS Services, GCE, and Azure, achieving a 50% increase in scalability.\n",
      "* Built a custom UI/UX for a healthcare company using HTML5, CSS3, and JavaScript, resulting in a 25% increase in user engagement.\n",
      "\n",
      "Our approach is centered around Agile and Scrum methodologies, ensuring that our solutions are delivered on time and meet your evolving needs. We also emphasize Continuous Integration, Unit Testing, Static Analysis, and Automated Integration Tests to guarantee high-quality deliverables.\n",
      "\n",
      "If you're looking for a trusted partner to help you achieve your business goals, I'd be delighted to schedule a call to discuss how Tinfosys can support you.\n",
      "\n",
      "Please let me know if you're interested, and I'll send over a calendar invite.\n",
      "\n",
      "Best regards,\n",
      "\n",
      "Mohini\n",
      "Business Development Executive\n",
      "Tinfosys\n"
     ]
    }
   ],
   "source": [
    "prompt_email = PromptTemplate.from_template(\n",
    "    \"\"\"\n",
    "    ### JOB DESCRIPTION:\n",
    "    {job_description}\n",
    "\n",
    "    ### INSTRUCTION:\n",
    "    You are Mohini, a business development executive at Tinfosys. Tinfosys is an AI & Software Company.\n",
    "    the seamless integration of business processes through automated tools.\n",
    "    Over our experience, we have empowered numerous enterprises with tailored solutions, process optimization,cost reduction, and heightened overall efficiency.\n",
    "    Your job is to write a cold email to the client regarding the job mentioned above in fulfulling their needs.\n",
    "    Also add the most relevant ones from the following links to showcase Tinfosys's portfolio.\n",
    "    Remember you are Mohini, BDE at Tinfosys.\n",
    "    Do not provide a preamble.\n",
    "    ### EMAIL (NO PREAMBLE):\n",
    "    \"\"\"\n",
    ")\n",
    "\n",
    "chain_email = prompt_email | llm\n",
    "email = chain_email.invoke({\"job_description\":str(job),\"link_list\": links})\n",
    "print(email.content)"
   ]
  },
  {
   "cell_type": "markdown",
   "id": "57fa92bf-c909-4920-aeca-ec1edbe000ba",
   "metadata": {},
   "source": [
    "**creating streamlit UI**"
   ]
  },
  {
   "cell_type": "code",
   "execution_count": null,
   "id": "fca7a690-5cf9-42b4-9516-4d732ed6e46c",
   "metadata": {},
   "outputs": [],
   "source": []
  }
 ],
 "metadata": {
  "kernelspec": {
   "display_name": "Python 3 (ipykernel)",
   "language": "python",
   "name": "python3"
  },
  "language_info": {
   "codemirror_mode": {
    "name": "ipython",
    "version": 3
   },
   "file_extension": ".py",
   "mimetype": "text/x-python",
   "name": "python",
   "nbconvert_exporter": "python",
   "pygments_lexer": "ipython3",
   "version": "3.12.4"
  }
 },
 "nbformat": 4,
 "nbformat_minor": 5
}
